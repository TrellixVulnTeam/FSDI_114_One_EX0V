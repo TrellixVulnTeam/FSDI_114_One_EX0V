{
 "cells": [
  {
   "cell_type": "code",
   "execution_count": 1,
   "id": "1989f6a9",
   "metadata": {},
   "outputs": [
    {
     "name": "stdout",
     "output_type": "stream",
     "text": [
      "h\n",
      "e\n",
      "l\n",
      "l\n",
      "o\n",
      ",\n",
      " \n",
      "w\n",
      "o\n",
      "r\n",
      "l\n",
      "d\n",
      "!\n"
     ]
    }
   ],
   "source": [
    "for letter in \"hello, world!\":\n",
    "    print(letter)"
   ]
  },
  {
   "cell_type": "markdown",
   "id": "63bff845",
   "metadata": {},
   "source": [
    "# Problem 1\n",
    "### Given two strings (string_a and string_b) let's check whether or not they are anagrams of eachother with the following criteria:\n",
    "> Two strings are only anagrams of eachother if all conditions below are met:\n",
    "> * They must be exactly the same length.\n",
    "> * The must use exactly the same characters (no more, no less).\n",
    "Example: cars or scar, heart and earth, etc."
   ]
  },
  {
   "cell_type": "code",
   "execution_count": 11,
   "id": "4c2436f2",
   "metadata": {},
   "outputs": [],
   "source": [
    "# declare function check_anagrams -> pamrameters: string_a, string_b:\n",
    "# if string_a and string_b are not the same length:\n",
    "#       return False\n",
    "\n",
    "def is_anagram(string_a, string_b):            # function declaration\n",
    "    if len(string_a) != len(string_b):         # checking if strings same length\n",
    "         return False                          # This guarantees best case time complexity\n",
    "    char_times_a = dict()\n",
    "    char_times_b = dict()                      # Declaring two dictionaries to track change\n",
    "    for i in range(len(string_a)):             # Looping for each value in range 1 to (string length)\n",
    "        if string_a[i] not in char_times_a.keys():   # Checking if we've seen the character\n",
    "            char_times_a[string_a[i]] = 0            # If we haven't, we record it in our dict\n",
    "        else:\n",
    "            char_times_a[string_a[i]] += 1           # If we have, we increment how many times we've seen it\n",
    "        if string_b[i] not in char_times_b.keys():\n",
    "            char_times_b[string_b[i]] = 0\n",
    "        else:\n",
    "            char_times_b[string_b[i]] += 1\n",
    "    return char_times_a == char_times_b     # Check if dictionaries are equal by the end of our loop\n",
    "            \n"
   ]
  },
  {
   "cell_type": "code",
   "execution_count": 12,
   "id": "a3430cb5",
   "metadata": {},
   "outputs": [
    {
     "data": {
      "text/plain": [
       "False"
      ]
     },
     "execution_count": 12,
     "metadata": {},
     "output_type": "execute_result"
    }
   ],
   "source": [
    "is_anagram(\"sccr\", \"scar\")"
   ]
  },
  {
   "cell_type": "code",
   "execution_count": 13,
   "id": "e2f80dfe",
   "metadata": {},
   "outputs": [
    {
     "data": {
      "text/plain": [
       "True"
      ]
     },
     "execution_count": 13,
     "metadata": {},
     "output_type": "execute_result"
    }
   ],
   "source": [
    "is_anagram(\"cars\", \"scar\")"
   ]
  },
  {
   "cell_type": "code",
   "execution_count": null,
   "id": "3e967337",
   "metadata": {},
   "outputs": [],
   "source": []
  }
 ],
 "metadata": {
  "kernelspec": {
   "display_name": "Python 3 (ipykernel)",
   "language": "python",
   "name": "python3"
  },
  "language_info": {
   "codemirror_mode": {
    "name": "ipython",
    "version": 3
   },
   "file_extension": ".py",
   "mimetype": "text/x-python",
   "name": "python",
   "nbconvert_exporter": "python",
   "pygments_lexer": "ipython3",
   "version": "3.9.6"
  }
 },
 "nbformat": 4,
 "nbformat_minor": 5
}
