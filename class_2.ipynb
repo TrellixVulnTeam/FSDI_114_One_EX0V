{
 "cells": [
  {
   "cell_type": "code",
   "execution_count": 8,
   "id": "bcc8cc31",
   "metadata": {},
   "outputs": [],
   "source": [
    "class Stack:\n",
    "    def __init__(self):\n",
    "        self.items = []\n",
    "    \n",
    "    def is_empty(self):\n",
    "        return self.items == []\n",
    "    \n",
    "    def push(self, item):\n",
    "        self.items.append(item)\n",
    "        \n",
    "    def pop(self):\n",
    "        return self.items.pop()\n",
    "    \n",
    "    def peek(self):\n",
    "        return self.items[len(self.items)-1]\n",
    "    \n",
    "    def size(self):\n",
    "        return len(self.items)\n",
    "    \n",
    "    def __len__(self):\n",
    "        return self.size()\n"
   ]
  },
  {
   "cell_type": "markdown",
   "id": "30aebd66",
   "metadata": {},
   "source": [
    "# Problem 2:Reverse a string\n",
    "### Use a stack to reverse a string.\n",
    "> star -> rats\n",
    "> racecar -> racecar"
   ]
  },
  {
   "cell_type": "code",
   "execution_count": 12,
   "id": "a001ae57",
   "metadata": {},
   "outputs": [],
   "source": [
    "#function to reverse a string\n",
    "\n",
    "def reverse_string(my_string):\n",
    "    mystack = Stack()\n",
    "#push string to stack\n",
    "    for char in my_string:\n",
    "        mystack.push(char)\n",
    "    string_out = \"\"                    # create empty string\n",
    "    while mystack.is_empty() == False: # until our stack is empty / while the string is empty\n",
    "        string_out += mystack.pop()    # add the character from the stack to the empty string\n",
    "    return string_out                  # return the new string\n",
    "#create stack of string characters\n",
    "#feed into new string\n"
   ]
  },
  {
   "cell_type": "code",
   "execution_count": 13,
   "id": "65feb432",
   "metadata": {},
   "outputs": [
    {
     "data": {
      "text/plain": [
       "'olleh'"
      ]
     },
     "execution_count": 13,
     "metadata": {},
     "output_type": "execute_result"
    }
   ],
   "source": [
    "reverse_string(\"hello\")"
   ]
  },
  {
   "cell_type": "code",
   "execution_count": 14,
   "id": "5696dbb5",
   "metadata": {},
   "outputs": [],
   "source": [
    "class Queue:\n",
    "    def __init__(self):\n",
    "        self.items = []\n",
    "    \n",
    "    def is_empty(self):\n",
    "        return self.items == []\n",
    "    \n",
    "    def enqueue(self, item):\n",
    "        return self.items.insert(0, item)\n",
    "    \n",
    "    def dequeue(self):\n",
    "        return self.items.pop()\n",
    "    \n",
    "    def size(self):\n",
    "        return len(self.items)\n",
    "    \n",
    "    "
   ]
  },
  {
   "cell_type": "code",
   "execution_count": 15,
   "id": "c8dc3191",
   "metadata": {},
   "outputs": [],
   "source": [
    "from string import ascii_lowercase\n",
    "from random import randint, choice\n",
    "from time import sleep\n",
    "\n",
    "def register_visitors(visitor_queue):\n",
    "    for char in ascii_lowercase:\n",
    "        visitor_queue.enqueue(char)\n",
    "    \n",
    "def service_customers(visitor_queue):\n",
    "    bank_tellers = [\"A\", \"B\", \"C\", \"D\", \"E\", \"F\", \"G\"]\n",
    "    while not visitor_queue.is_empty():\n",
    "        visitor = visitor_queue.dequeue()\n",
    "        print(\"Thank you for waiting %s, station %s is ready for you.\"\n",
    "            % (visitor, choice(bank_tellers)))\n",
    "        sleep(randint(1, 2))\n",
    "    print(\"Empty visitor queue.\")\n",
    "    \n",
    "def main():\n",
    "    visitor_queue = Queue()\n",
    "    register_visitors(visitor_queue)\n",
    "    service_customers(visitor_queue)\n",
    "    "
   ]
  },
  {
   "cell_type": "code",
   "execution_count": 16,
   "id": "9ecfa363",
   "metadata": {},
   "outputs": [
    {
     "name": "stdout",
     "output_type": "stream",
     "text": [
      "Thank you for waiting a, station E is ready for you.\n",
      "Thank you for waiting b, station E is ready for you.\n",
      "Thank you for waiting c, station A is ready for you.\n",
      "Thank you for waiting d, station D is ready for you.\n",
      "Thank you for waiting e, station C is ready for you.\n",
      "Thank you for waiting f, station D is ready for you.\n",
      "Thank you for waiting g, station B is ready for you.\n",
      "Thank you for waiting h, station B is ready for you.\n",
      "Thank you for waiting i, station D is ready for you.\n",
      "Thank you for waiting j, station D is ready for you.\n",
      "Thank you for waiting k, station C is ready for you.\n",
      "Thank you for waiting l, station A is ready for you.\n",
      "Thank you for waiting m, station D is ready for you.\n",
      "Thank you for waiting n, station A is ready for you.\n",
      "Thank you for waiting o, station C is ready for you.\n",
      "Thank you for waiting p, station F is ready for you.\n",
      "Thank you for waiting q, station G is ready for you.\n",
      "Thank you for waiting r, station A is ready for you.\n",
      "Thank you for waiting s, station A is ready for you.\n",
      "Thank you for waiting t, station D is ready for you.\n",
      "Thank you for waiting u, station C is ready for you.\n",
      "Thank you for waiting v, station C is ready for you.\n",
      "Thank you for waiting w, station B is ready for you.\n",
      "Thank you for waiting x, station C is ready for you.\n",
      "Thank you for waiting y, station E is ready for you.\n",
      "Thank you for waiting z, station A is ready for you.\n",
      "Empty visitor queue.\n"
     ]
    }
   ],
   "source": [
    "main()"
   ]
  },
  {
   "cell_type": "code",
   "execution_count": null,
   "id": "25761121",
   "metadata": {},
   "outputs": [],
   "source": []
  }
 ],
 "metadata": {
  "kernelspec": {
   "display_name": "Python 3 (ipykernel)",
   "language": "python",
   "name": "python3"
  },
  "language_info": {
   "codemirror_mode": {
    "name": "ipython",
    "version": 3
   },
   "file_extension": ".py",
   "mimetype": "text/x-python",
   "name": "python",
   "nbconvert_exporter": "python",
   "pygments_lexer": "ipython3",
   "version": "3.9.6"
  }
 },
 "nbformat": 4,
 "nbformat_minor": 5
}
